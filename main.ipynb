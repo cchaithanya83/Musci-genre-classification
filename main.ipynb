{
 "cells": [
  {
   "cell_type": "markdown",
   "metadata": {},
   "source": [
    "CREATED BY CHAITHANYA K"
   ]
  },
  {
   "cell_type": "code",
   "execution_count": 101,
   "metadata": {},
   "outputs": [
    {
     "name": "stdout",
     "output_type": "stream",
     "text": [
      "KNN Accuracy: 0.40\n",
      "SVM Accuracy: 0.90\n",
      "Best RF Params: {'max_depth': 10, 'n_estimators': 100}\n",
      "Best RF Cross-Validation Score: 0.6464646464646464\n"
     ]
    },
    {
     "data": {
      "text/plain": [
       "['rf.pkl']"
      ]
     },
     "execution_count": 101,
     "metadata": {},
     "output_type": "execute_result"
    }
   ],
   "source": [
    "import joblib\n",
    "import pandas as pd\n",
    "import numpy as np\n",
    "from sklearn.model_selection import train_test_split, cross_val_score, GridSearchCV\n",
    "from sklearn.neighbors import KNeighborsClassifier\n",
    "from sklearn.preprocessing import StandardScaler\n",
    "from sklearn.svm import SVC\n",
    "from sklearn.metrics import accuracy_score\n",
    "from sklearn.ensemble import RandomForestClassifier\n",
    "# Load the dataset\n",
    "df = pd.read_csv('data.csv')\n",
    "# Convert class names to categorical codes\n",
    "df['class_name'] = df['class_name'].astype('category')\n",
    "df['class_label'] = df['class_name'].cat.codes\n",
    "\n",
    "# Prepare features and labels\n",
    "X = df.iloc[:, 1:29]  # Assuming you want columns from index 1 to 27\n",
    "y = df['class_label']\n",
    "\n",
    "# Split the dataset into training and testing sets\n",
    "X_train, X_test, y_train, y_test = train_test_split(X, y, test_size=0.01, random_state=42)\n",
    "\n",
    "# Feature scaling\n",
    "scaler = StandardScaler()\n",
    "X_train_scaled = scaler.fit_transform(X_train)\n",
    "X_test_scaled = scaler.transform(X_test)\n",
    "\n",
    "# Save the scaler\n",
    "joblib.dump(scaler, 'scaler.pkl')\n",
    "\n",
    "\n",
    "# K-Nearest Neighbors (KNN)\n",
    "knn = KNeighborsClassifier(n_neighbors=10)\n",
    "knn.fit(X_train_scaled, y_train)\n",
    "knn_predictions = knn.predict(X_test_scaled)\n",
    "knn_accuracy = accuracy_score(y_test, knn_predictions)\n",
    "print(f'KNN Accuracy: {knn_accuracy:.2f}')\n",
    "\n",
    "# Save the KNN model\n",
    "joblib.dump(knn, 'knn.pkl')\n",
    "\n",
    "\n",
    "# Support Vector Classifier (SVC)\n",
    "svm = SVC(kernel='linear', C=100)\n",
    "svm.fit(X_train_scaled, y_train)\n",
    "svm_predictions = svm.predict(X_test_scaled)\n",
    "svm_accuracy = accuracy_score(y_test, svm_predictions)\n",
    "print(f'SVM Accuracy: {svm_accuracy:.2f}')\n",
    "# Save the SVM model\n",
    "joblib.dump(svm, 'svm.pkl')\n",
    "\n",
    "\n",
    "# Random Forest Hyperparameter Tuning\n",
    "rf_params = {'n_estimators': [50, 100, 200], 'max_depth': [None, 10, 20, 30]}\n",
    "rf_grid = GridSearchCV(RandomForestClassifier(random_state=42), rf_params, cv=5)\n",
    "rf_grid.fit(X_train_scaled, y_train)\n",
    "print(f'Best RF Params: {rf_grid.best_params_}')\n",
    "print(f'Best RF Cross-Validation Score: {rf_grid.best_score_}')\n",
    "\n",
    "# Save the best Random Forest model\n",
    "joblib.dump(rf_grid.best_estimator_, 'rf.pkl')"
   ]
  },
  {
   "cell_type": "code",
   "execution_count": 102,
   "metadata": {},
   "outputs": [],
   "source": [
    "import librosa\n",
    "import numpy as np\n",
    "import joblib\n",
    "\n",
    "# Load the model and scaler\n",
    "model = joblib.load('rf.pkl')\n",
    "scaler = joblib.load('scaler.pkl')\n",
    "\n",
    "def getmetadata(filename):\n",
    "    y, sr = librosa.load(filename)\n",
    "    \n",
    "    # Use keyword arguments for onset_strength\n",
    "    onset_env = librosa.onset.onset_strength(y=y, sr=sr)\n",
    "    tempo = librosa.beat.tempo(onset_envelope=onset_env, sr=sr)\n",
    "    \n",
    "    # Use harmonic-percussive separation\n",
    "    y_harmonic, y_percussive = librosa.effects.hpss(y)\n",
    "    \n",
    "    # Beat tracking\n",
    "    tempo, beat_frames = librosa.beat.beat_track(y=y_percussive, sr=sr)\n",
    "    \n",
    "    # Feature extraction\n",
    "    chroma_stft = librosa.feature.chroma_stft(y=y, sr=sr)\n",
    "    rmse = librosa.feature.rms(y=y)\n",
    "    spec_centroid = librosa.feature.spectral_centroid(y=y, sr=sr)[0]\n",
    "    spec_bw = librosa.feature.spectral_bandwidth(y=y, sr=sr)\n",
    "    spec_rolloff = librosa.feature.spectral_rolloff(y=y+0.01, sr=sr)[0]\n",
    "    zero_crossing = librosa.feature.zero_crossing_rate(y=y)\n",
    "    mfcc = librosa.feature.mfcc(y=y, sr=sr)\n",
    "    \n",
    "    # Metadata dictionary\n",
    "    metadata_dict = {\n",
    "        'tempo': np.mean(tempo),\n",
    "        'beats': np.mean(beat_frames),\n",
    "        'chroma_stft': np.mean(chroma_stft),\n",
    "        'rmse': np.mean(rmse),\n",
    "        'spectral_centroid': np.mean(spec_centroid),\n",
    "        'spectral_bandwidth': np.mean(spec_bw),\n",
    "        'rolloff': np.mean(spec_rolloff),\n",
    "        'zero_crossing_rates': np.mean(zero_crossing)\n",
    "    }\n",
    "    \n",
    "    for i in range(1, 21):\n",
    "        if i <= mfcc.shape[0]:  # Check if the index is within the bounds of mfcc\n",
    "            metadata_dict[f'mfcc{i}'] = np.mean(mfcc[i-1])\n",
    "    \n",
    "    return metadata_dict\n"
   ]
  },
  {
   "cell_type": "code",
   "execution_count": 103,
   "metadata": {},
   "outputs": [],
   "source": [
    "genre_mapping = {0: 'blues', 1: 'classical', 2: 'country', 3: 'disco', 4: 'hiphop', 5: 'jazz', 6: 'metal', 7: 'pop', 8: 'reggae', 9: 'rock'}\n",
    "\n",
    "def find_genre(file_path):\n",
    "    mtdt = getmetadata(file_path)\n",
    "    mtdt = np.array(list(mtdt.values()))\n",
    "    mtdt.reshape(-1,1)\n",
    "    mtdt_scaled = scaler.transform([mtdt])\n",
    "    pred_genre = model.predict(mtdt_scaled) \n",
    "    return genre_mapping[pred_genre[0]]"
   ]
  },
  {
   "cell_type": "code",
   "execution_count": 104,
   "metadata": {},
   "outputs": [
    {
     "name": "stdout",
     "output_type": "stream",
     "text": [
      "Running on local URL:  http://127.0.0.1:7871\n",
      "\n",
      "To create a public link, set `share=True` in `launch()`.\n"
     ]
    },
    {
     "data": {
      "text/html": [
       "<div><iframe src=\"http://127.0.0.1:7871/\" width=\"100%\" height=\"500\" allow=\"autoplay; camera; microphone; clipboard-read; clipboard-write;\" frameborder=\"0\" allowfullscreen></iframe></div>"
      ],
      "text/plain": [
       "<IPython.core.display.HTML object>"
      ]
     },
     "metadata": {},
     "output_type": "display_data"
    },
    {
     "data": {
      "text/plain": []
     },
     "execution_count": 104,
     "metadata": {},
     "output_type": "execute_result"
    },
    {
     "name": "stderr",
     "output_type": "stream",
     "text": [
      "C:\\Users\\Chaithanya\\AppData\\Local\\Temp\\ipykernel_18164\\3673371580.py:14: FutureWarning: librosa.beat.tempo\n",
      "\tThis function was moved to 'librosa.feature.rhythm.tempo' in librosa version 0.10.0.\n",
      "\tThis alias will be removed in librosa version 1.0.\n",
      "  tempo = librosa.beat.tempo(onset_envelope=onset_env, sr=sr)\n",
      "C:\\Users\\Chaithanya\\AppData\\Roaming\\Python\\Python311\\site-packages\\sklearn\\base.py:439: UserWarning: X does not have valid feature names, but StandardScaler was fitted with feature names\n",
      "  warnings.warn(\n",
      "C:\\Users\\Chaithanya\\AppData\\Local\\Temp\\ipykernel_18164\\3673371580.py:14: FutureWarning: librosa.beat.tempo\n",
      "\tThis function was moved to 'librosa.feature.rhythm.tempo' in librosa version 0.10.0.\n",
      "\tThis alias will be removed in librosa version 1.0.\n",
      "  tempo = librosa.beat.tempo(onset_envelope=onset_env, sr=sr)\n",
      "C:\\Users\\Chaithanya\\AppData\\Roaming\\Python\\Python311\\site-packages\\sklearn\\base.py:439: UserWarning: X does not have valid feature names, but StandardScaler was fitted with feature names\n",
      "  warnings.warn(\n",
      "C:\\Users\\Chaithanya\\AppData\\Local\\Temp\\ipykernel_18164\\3673371580.py:14: FutureWarning: librosa.beat.tempo\n",
      "\tThis function was moved to 'librosa.feature.rhythm.tempo' in librosa version 0.10.0.\n",
      "\tThis alias will be removed in librosa version 1.0.\n",
      "  tempo = librosa.beat.tempo(onset_envelope=onset_env, sr=sr)\n",
      "C:\\Users\\Chaithanya\\AppData\\Roaming\\Python\\Python311\\site-packages\\sklearn\\base.py:439: UserWarning: X does not have valid feature names, but StandardScaler was fitted with feature names\n",
      "  warnings.warn(\n",
      "C:\\Users\\Chaithanya\\AppData\\Local\\Temp\\ipykernel_18164\\3673371580.py:14: FutureWarning: librosa.beat.tempo\n",
      "\tThis function was moved to 'librosa.feature.rhythm.tempo' in librosa version 0.10.0.\n",
      "\tThis alias will be removed in librosa version 1.0.\n",
      "  tempo = librosa.beat.tempo(onset_envelope=onset_env, sr=sr)\n",
      "C:\\Users\\Chaithanya\\AppData\\Roaming\\Python\\Python311\\site-packages\\sklearn\\base.py:439: UserWarning: X does not have valid feature names, but StandardScaler was fitted with feature names\n",
      "  warnings.warn(\n",
      "ERROR:    Exception in ASGI application\n",
      "Traceback (most recent call last):\n",
      "  File \"C:\\Users\\Chaithanya\\AppData\\Roaming\\Python\\Python311\\site-packages\\uvicorn\\protocols\\http\\httptools_impl.py\", line 435, in run_asgi\n",
      "    result = await app(  # type: ignore[func-returns-value]\n",
      "             ^^^^^^^^^^^^^^^^^^^^^^^^^^^^^^^^^^^^^^^^^^^^^^\n",
      "  File \"C:\\Users\\Chaithanya\\AppData\\Roaming\\Python\\Python311\\site-packages\\uvicorn\\middleware\\proxy_headers.py\", line 78, in __call__\n",
      "    return await self.app(scope, receive, send)\n",
      "           ^^^^^^^^^^^^^^^^^^^^^^^^^^^^^^^^^^^^\n",
      "  File \"C:\\Users\\Chaithanya\\AppData\\Roaming\\Python\\Python311\\site-packages\\fastapi\\applications.py\", line 1054, in __call__\n",
      "    await super().__call__(scope, receive, send)\n",
      "  File \"C:\\Users\\Chaithanya\\AppData\\Roaming\\Python\\Python311\\site-packages\\starlette\\applications.py\", line 123, in __call__\n",
      "    await self.middleware_stack(scope, receive, send)\n",
      "  File \"C:\\Users\\Chaithanya\\AppData\\Roaming\\Python\\Python311\\site-packages\\starlette\\middleware\\errors.py\", line 186, in __call__\n",
      "    raise exc\n",
      "  File \"C:\\Users\\Chaithanya\\AppData\\Roaming\\Python\\Python311\\site-packages\\starlette\\middleware\\errors.py\", line 164, in __call__\n",
      "    await self.app(scope, receive, _send)\n",
      "  File \"C:\\Users\\Chaithanya\\AppData\\Roaming\\Python\\Python311\\site-packages\\gradio\\route_utils.py\", line 714, in __call__\n",
      "    await self.app(scope, receive, send)\n",
      "  File \"C:\\Users\\Chaithanya\\AppData\\Roaming\\Python\\Python311\\site-packages\\starlette\\middleware\\exceptions.py\", line 65, in __call__\n",
      "    await wrap_app_handling_exceptions(self.app, conn)(scope, receive, send)\n",
      "  File \"C:\\Users\\Chaithanya\\AppData\\Roaming\\Python\\Python311\\site-packages\\starlette\\_exception_handler.py\", line 64, in wrapped_app\n",
      "    raise exc\n",
      "  File \"C:\\Users\\Chaithanya\\AppData\\Roaming\\Python\\Python311\\site-packages\\starlette\\_exception_handler.py\", line 53, in wrapped_app\n",
      "    await app(scope, receive, sender)\n",
      "  File \"C:\\Users\\Chaithanya\\AppData\\Roaming\\Python\\Python311\\site-packages\\starlette\\routing.py\", line 756, in __call__\n",
      "    await self.middleware_stack(scope, receive, send)\n",
      "  File \"C:\\Users\\Chaithanya\\AppData\\Roaming\\Python\\Python311\\site-packages\\starlette\\routing.py\", line 776, in app\n",
      "    await route.handle(scope, receive, send)\n",
      "  File \"C:\\Users\\Chaithanya\\AppData\\Roaming\\Python\\Python311\\site-packages\\starlette\\routing.py\", line 297, in handle\n",
      "    await self.app(scope, receive, send)\n",
      "  File \"C:\\Users\\Chaithanya\\AppData\\Roaming\\Python\\Python311\\site-packages\\starlette\\routing.py\", line 77, in app\n",
      "    await wrap_app_handling_exceptions(app, request)(scope, receive, send)\n",
      "  File \"C:\\Users\\Chaithanya\\AppData\\Roaming\\Python\\Python311\\site-packages\\starlette\\_exception_handler.py\", line 64, in wrapped_app\n",
      "    raise exc\n",
      "  File \"C:\\Users\\Chaithanya\\AppData\\Roaming\\Python\\Python311\\site-packages\\starlette\\_exception_handler.py\", line 53, in wrapped_app\n",
      "    await app(scope, receive, sender)\n",
      "  File \"C:\\Users\\Chaithanya\\AppData\\Roaming\\Python\\Python311\\site-packages\\starlette\\routing.py\", line 75, in app\n",
      "    await response(scope, receive, send)\n",
      "  File \"C:\\Users\\Chaithanya\\AppData\\Roaming\\Python\\Python311\\site-packages\\starlette\\responses.py\", line 352, in __call__\n",
      "    await send(\n",
      "  File \"C:\\Users\\Chaithanya\\AppData\\Roaming\\Python\\Python311\\site-packages\\starlette\\_exception_handler.py\", line 50, in sender\n",
      "    await send(message)\n",
      "  File \"C:\\Users\\Chaithanya\\AppData\\Roaming\\Python\\Python311\\site-packages\\starlette\\_exception_handler.py\", line 50, in sender\n",
      "    await send(message)\n",
      "  File \"C:\\Users\\Chaithanya\\AppData\\Roaming\\Python\\Python311\\site-packages\\starlette\\middleware\\errors.py\", line 161, in _send\n",
      "    await send(message)\n",
      "  File \"C:\\Users\\Chaithanya\\AppData\\Roaming\\Python\\Python311\\site-packages\\uvicorn\\protocols\\http\\httptools_impl.py\", line 569, in send\n",
      "    raise RuntimeError(\"Response content longer than Content-Length\")\n",
      "RuntimeError: Response content longer than Content-Length\n",
      "C:\\Users\\Chaithanya\\AppData\\Local\\Temp\\ipykernel_18164\\3673371580.py:14: FutureWarning: librosa.beat.tempo\n",
      "\tThis function was moved to 'librosa.feature.rhythm.tempo' in librosa version 0.10.0.\n",
      "\tThis alias will be removed in librosa version 1.0.\n",
      "  tempo = librosa.beat.tempo(onset_envelope=onset_env, sr=sr)\n",
      "C:\\Users\\Chaithanya\\AppData\\Roaming\\Python\\Python311\\site-packages\\sklearn\\base.py:439: UserWarning: X does not have valid feature names, but StandardScaler was fitted with feature names\n",
      "  warnings.warn(\n"
     ]
    }
   ],
   "source": [
    "import gradio as gr\n",
    "interface = gr.Interface(\n",
    "    fn=find_genre,  # The function to wrap\n",
    "    inputs=gr.Audio(type=\"filepath\"),  # Input type\n",
    "    outputs=\"text\",  # Output type\n",
    "    title=\"Music Genre Classification\",  # Title of the interface\n",
    "    description=\"Upload an audio file to classify its music genre.\"  # Description\n",
    ")\n",
    "\n",
    "# Launch the Gradio interface\n",
    "interface.launch()"
   ]
  }
 ],
 "metadata": {
  "kernelspec": {
   "display_name": "Python 3",
   "language": "python",
   "name": "python3"
  },
  "language_info": {
   "codemirror_mode": {
    "name": "ipython",
    "version": 3
   },
   "file_extension": ".py",
   "mimetype": "text/x-python",
   "name": "python",
   "nbconvert_exporter": "python",
   "pygments_lexer": "ipython3",
   "version": "3.11.9"
  }
 },
 "nbformat": 4,
 "nbformat_minor": 2
}
